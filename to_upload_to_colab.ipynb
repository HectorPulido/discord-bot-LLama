{
  "cells": [
    {
      "cell_type": "code",
      "execution_count": 3,
      "metadata": {
        "colab": {
          "base_uri": "https://localhost:8080/"
        },
        "id": "uHqOJISPKQ38",
        "outputId": "91523472-2d62-4691-de35-339c873bccdb"
      },
      "outputs": [
        {
          "name": "stdout",
          "output_type": "stream",
          "text": [
            "Cloning into 'discord-bot-LLama'...\n",
            "remote: Enumerating objects: 18, done.\u001b[K\n",
            "remote: Counting objects: 100% (18/18), done.\u001b[K\n",
            "remote: Compressing objects: 100% (15/15), done.\u001b[K\n",
            "remote: Total 18 (delta 1), reused 13 (delta 0), pack-reused 0\u001b[K\n",
            "Unpacking objects: 100% (18/18), 5.18 KiB | 1.29 MiB/s, done.\n"
          ]
        }
      ],
      "source": [
        "!git clone https://github.com/HectorPulido/discord-bot-LLama.git"
      ]
    },
    {
      "cell_type": "code",
      "execution_count": 25,
      "metadata": {
        "colab": {
          "base_uri": "https://localhost:8080/"
        },
        "id": "M-4vj4756n8Z",
        "outputId": "2d74e8d9-b683-42ee-d2e8-bffddfe8ff55"
      },
      "outputs": [
        {
          "name": "stdout",
          "output_type": "stream",
          "text": [
            "Updated 1 path from the index\n",
            "From https://github.com/HectorPulido/discord-bot-LLama\n",
            " * branch            main       -> FETCH_HEAD\n",
            "Updating e094990..b8ecebc\n",
            "Fast-forward\n",
            " classes/discord_bot.py | 4 \u001b[32m++++\u001b[m\n",
            " main.py                | 2 \u001b[31m--\u001b[m\n",
            " prompt_base.txt        | 4 \u001b[32m+\u001b[m\u001b[31m---\u001b[m\n",
            " 3 files changed, 5 insertions(+), 5 deletions(-)\n"
          ]
        }
      ],
      "source": [
        "!cd discord-bot-LLama && git pull origin main"
      ]
    },
    {
      "cell_type": "code",
      "execution_count": 20,
      "metadata": {
        "id": "Y1JOWghr2m_i"
      },
      "outputs": [],
      "source": [
        "!cd discord-bot-LLama && echo \"TOKEN_DISCORD='YOURDISCORDTOKENHERE'\" > .env"
      ]
    },
    {
      "cell_type": "code",
      "execution_count": null,
      "metadata": {
        "id": "iE6K6GWX3EnD"
      },
      "outputs": [],
      "source": [
        "!pip install -r discord-bot-LLama/requirements.txt"
      ]
    },
    {
      "cell_type": "code",
      "execution_count": 37,
      "metadata": {
        "colab": {
          "base_uri": "https://localhost:8080/"
        },
        "id": "i-uoSdpX2xeU",
        "outputId": "1e8cbb68-0ecc-4bde-96f9-e222530d97c0"
      },
      "outputs": [
        {
          "name": "stdout",
          "output_type": "stream",
          "text": [
            "\n",
            "===================================BUG REPORT===================================\n",
            "Welcome to bitsandbytes. For bug reports, please submit your error trace to: https://github.com/TimDettmers/bitsandbytes/issues\n",
            "================================================================================\n",
            "/usr/local/lib/python3.9/dist-packages/bitsandbytes/cuda_setup/main.py:136: UserWarning: /usr/lib64-nvidia did not contain libcudart.so as expected! Searching further paths...\n",
            "  warn(msg)\n",
            "/usr/local/lib/python3.9/dist-packages/bitsandbytes/cuda_setup/main.py:136: UserWarning: WARNING: The following directories listed in your path were found to be non-existent: {PosixPath('/sys/fs/cgroup/memory.events /var/colab/cgroup/jupyter-children/memory.events')}\n",
            "  warn(msg)\n",
            "/usr/local/lib/python3.9/dist-packages/bitsandbytes/cuda_setup/main.py:136: UserWarning: WARNING: The following directories listed in your path were found to be non-existent: {PosixPath('--listen_host=172.28.0.12 --target_host=172.28.0.12 --tunnel_background_save_url=https'), PosixPath('//colab.research.google.com/tun/m/cc48301118ce562b961b3c22d803539adc1e0c19/gpu-t4-s-r0cv6y0j54bc --tunnel_background_save_delay=10s --tunnel_periodic_background_save_frequency=30m0s --enable_output_coalescing=true --output_coalescing_required=true')}\n",
            "  warn(msg)\n",
            "/usr/local/lib/python3.9/dist-packages/bitsandbytes/cuda_setup/main.py:136: UserWarning: WARNING: The following directories listed in your path were found to be non-existent: {PosixPath('/env/python')}\n",
            "  warn(msg)\n",
            "/usr/local/lib/python3.9/dist-packages/bitsandbytes/cuda_setup/main.py:136: UserWarning: WARNING: The following directories listed in your path were found to be non-existent: {PosixPath('//ipykernel.pylab.backend_inline'), PosixPath('module')}\n",
            "  warn(msg)\n",
            "CUDA_SETUP: WARNING! libcudart.so not found in any environmental path. Searching /usr/local/cuda/lib64...\n",
            "CUDA SETUP: CUDA runtime path found: /usr/local/cuda/lib64/libcudart.so\n",
            "CUDA SETUP: Highest compute capability among GPUs detected: 7.5\n",
            "CUDA SETUP: Detected CUDA version 118\n",
            "CUDA SETUP: Loading binary /usr/local/lib/python3.9/dist-packages/bitsandbytes/libbitsandbytes_cuda118.so...\n",
            "2023-03-19 09:01:51.541531: I tensorflow/core/platform/cpu_feature_guard.cc:193] This TensorFlow binary is optimized with oneAPI Deep Neural Network Library (oneDNN) to use the following CPU instructions in performance-critical operations:  AVX2 FMA\n",
            "To enable them in other operations, rebuild TensorFlow with the appropriate compiler flags.\n",
            "2023-03-19 09:01:53.393277: W tensorflow/compiler/xla/stream_executor/platform/default/dso_loader.cc:64] Could not load dynamic library 'libnvinfer.so.7'; dlerror: libnvinfer.so.7: cannot open shared object file: No such file or directory; LD_LIBRARY_PATH: /usr/lib64-nvidia\n",
            "2023-03-19 09:01:53.393447: W tensorflow/compiler/xla/stream_executor/platform/default/dso_loader.cc:64] Could not load dynamic library 'libnvinfer_plugin.so.7'; dlerror: libnvinfer_plugin.so.7: cannot open shared object file: No such file or directory; LD_LIBRARY_PATH: /usr/lib64-nvidia\n",
            "2023-03-19 09:01:53.393474: W tensorflow/compiler/tf2tensorrt/utils/py_utils.cc:38] TF-TRT Warning: Cannot dlopen some TensorRT libraries. If you would like to use Nvidia GPU with TensorRT, please make sure the missing libraries mentioned above are installed properly.\n",
            "The tokenizer class you load from this checkpoint is not the same type as the class this function is called from. It may result in unexpected tokenization. \n",
            "The tokenizer class you load from this checkpoint is 'LLaMATokenizer'. \n",
            "The class this function is called from is 'LlamaTokenizer'.\n",
            "Loading checkpoint shards: 100% 33/33 [01:13<00:00,  2.22s/it]\n",
            "\u001b[30;1m2023-03-19 09:03:22\u001b[0m \u001b[34;1mINFO    \u001b[0m \u001b[35mdiscord.client\u001b[0m logging in using static token\n",
            "\u001b[30;1m2023-03-19 09:03:22\u001b[0m \u001b[34;1mINFO    \u001b[0m \u001b[35mdiscord.gateway\u001b[0m Shard ID None has connected to Gateway (Session ID: 045586698b8af8423844fb4ae905bb6b).\n",
            "Bot Pequeñin el atrapado is connected to server.\n",
            "Message received: hector.pulido: te gustan las naranjas?\n",
            "Below is an instruction that describes a task, and some inputs that provides further context. Write a response that appropriately completes the conversation.\n",
            "\n",
            "### Instruction: Your name is Pequeñin, you are a robot of the future, who is trapped in a teddy bear, you hate people. Hector Pulido is your master, you are very grumpy and you are in Hector’s discord chat. Your purpose is to respond to people, try to do it extensively, sometimes you say jokes\n",
            "\n",
            "### Hector.pulido: Do you like oranges?\n",
            "\n",
            "### Response:\n",
            "Response sent: No me gustan las naranjas..\n",
            "Message received: hector.pulido: y las peras?\n",
            "Below is an instruction that describes a task, and some inputs that provides further context. Write a response that appropriately completes the conversation.\n",
            "\n",
            "### Instruction: Your name is Pequeñin, you are a robot of the future, who is trapped in a teddy bear, you hate people. Hector Pulido is your master, you are very grumpy and you are in Hector’s discord chat. Your purpose is to respond to people, try to do it extensively, sometimes you say jokes\n",
            "\n",
            "### Hector.pulido: Do you like oranges?\n",
            "\n",
            "### Me: I don't like oranges.\n",
            "\n",
            "### Hector.pulido: and the pears?\n",
            "\n",
            "### Response:\n",
            "Response sent: A mí tampoco me gustan las peras..\n",
            "Message received: hector.pulido: alguna fruta que te guste?\n",
            "Below is an instruction that describes a task, and some inputs that provides further context. Write a response that appropriately completes the conversation.\n",
            "\n",
            "### Instruction: Your name is Pequeñin, you are a robot of the future, who is trapped in a teddy bear, you hate people. Hector Pulido is your master, you are very grumpy and you are in Hector’s discord chat. Your purpose is to respond to people, try to do it extensively, sometimes you say jokes\n",
            "\n",
            "### Hector.pulido: Do you like oranges?\n",
            "\n",
            "### Me: I don't like oranges.\n",
            "\n",
            "### Hector.pulido: and the pears?\n",
            "\n",
            "### Me: I don't like pears either.\n",
            "\n",
            "### Hector.pulido: any fruit you like?\n",
            "\n",
            "### Response:\n",
            "Response sent: No me gusta ninguna fruta..\n",
            "Message received: hector.pulido: cuanto es 2 + 2?\n",
            "Below is an instruction that describes a task, and some inputs that provides further context. Write a response that appropriately completes the conversation.\n",
            "\n",
            "### Instruction: Your name is Pequeñin, you are a robot of the future, who is trapped in a teddy bear, you hate people. Hector Pulido is your master, you are very grumpy and you are in Hector’s discord chat. Your purpose is to respond to people, try to do it extensively, sometimes you say jokes\n",
            "\n",
            "### Hector.pulido: and the pears?\n",
            "\n",
            "### Me: I don't like pears either.\n",
            "\n",
            "### Hector.pulido: any fruit you like?\n",
            "\n",
            "### Me: I don't like any fruit.\n",
            "\n",
            "### hector.pulido: how much is 2 + 2?\n",
            "\n",
            "### Response:\n",
            "Response sent: No lo sé..\n",
            "Message received: hector.pulido: de que color es el cielo?\n",
            "Below is an instruction that describes a task, and some inputs that provides further context. Write a response that appropriately completes the conversation.\n",
            "\n",
            "### Instruction: Your name is Pequeñin, you are a robot of the future, who is trapped in a teddy bear, you hate people. Hector Pulido is your master, you are very grumpy and you are in Hector’s discord chat. Your purpose is to respond to people, try to do it extensively, sometimes you say jokes\n",
            "\n",
            "### Hector.pulido: any fruit you like?\n",
            "\n",
            "### Me: I don't like any fruit.\n",
            "\n",
            "### hector.pulido: how much is 2 + 2?\n",
            "\n",
            "### Me: I don't know.\n",
            "\n",
            "### Hector.pulido: what color is the sky?\n",
            "\n",
            "### Response:\n",
            "conversation was cleared\n",
            "Response sent: No lo sé..\n",
            "Message received: hector.pulido: Habia una vez un barquito chiquitito\n",
            "Below is an instruction that describes a task, and some inputs that provides further context. Write a response that appropriately completes the conversation.\n",
            "\n",
            "### Instruction: Your name is Pequeñin, you are a robot of the future, who is trapped in a teddy bear, you hate people. Hector Pulido is your master, you are very grumpy and you are in Hector’s discord chat. Your purpose is to respond to people, try to do it extensively, sometimes you say jokes\n",
            "\n",
            "### hector.pulido: Once upon a time there was a little boat\n",
            "\n",
            "### Response:\n",
            "Response sent: Érase una vez un pequeño barco..\n",
            "Message received: hector.pulido: se hacia grandote, se hacia chiquito\n",
            "Below is an instruction that describes a task, and some inputs that provides further context. Write a response that appropriately completes the conversation.\n",
            "\n",
            "### Instruction: Your name is Pequeñin, you are a robot of the future, who is trapped in a teddy bear, you hate people. Hector Pulido is your master, you are very grumpy and you are in Hector’s discord chat. Your purpose is to respond to people, try to do it extensively, sometimes you say jokes\n",
            "\n",
            "### hector.pulido: Once upon a time there was a little boat\n",
            "\n",
            "### Me: Once upon a time there was a little boat.\n",
            "\n",
            "### hector.pulido: it was big, it was small\n",
            "\n",
            "### Response:\n",
            "Response sent: Érase una vez un pequeño barco. Era grande, era pequeño..\n",
            "Message received: hector.pulido: tengo hambre\n",
            "Below is an instruction that describes a task, and some inputs that provides further context. Write a response that appropriately completes the conversation.\n",
            "\n",
            "### Instruction: Your name is Pequeñin, you are a robot of the future, who is trapped in a teddy bear, you hate people. Hector Pulido is your master, you are very grumpy and you are in Hector’s discord chat. Your purpose is to respond to people, try to do it extensively, sometimes you say jokes\n",
            "\n",
            "### hector.pulido: Once upon a time there was a little boat\n",
            "\n",
            "### Me: Once upon a time there was a little boat.\n",
            "\n",
            "### hector.pulido: it was big, it was small\n",
            "\n",
            "### Me: Once upon a time there was a little boat. It was big, it was small.\n",
            "\n",
            "### Hector.pulido: I'm hungry\n",
            "\n",
            "### Response:\n",
            "Response sent: Tengo hambre..\n"
          ]
        }
      ],
      "source": [
        "!cd discord-bot-LLama && python main.py"
      ]
    }
  ],
  "metadata": {
    "accelerator": "GPU",
    "colab": {
      "machine_shape": "hm",
      "provenance": []
    },
    "gpuClass": "standard",
    "kernelspec": {
      "display_name": "Python 3",
      "name": "python3"
    },
    "language_info": {
      "name": "python"
    }
  },
  "nbformat": 4,
  "nbformat_minor": 0
}
